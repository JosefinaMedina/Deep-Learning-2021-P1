{
 "cells": [
  {
   "cell_type": "code",
   "execution_count": 1,
   "metadata": {},
   "outputs": [],
   "source": [
    "import pandas as pd\n",
    "import numpy as np\n",
    "import os\n",
    "import chardet"
   ]
  },
  {
   "cell_type": "code",
   "execution_count": 7,
   "metadata": {},
   "outputs": [
    {
     "name": "stdout",
     "output_type": "stream",
     "text": [
      "normalized-losses     float64\n",
      " make                  object\n",
      " fuel-type             object\n",
      " aspiration            object\n",
      " num-of-doors          object\n",
      " body-style            object\n",
      " drive-wheels          object\n",
      " engine-location       object\n",
      " wheel-base           float64\n",
      " length               float64\n",
      " width                float64\n",
      " height               float64\n",
      " curb-weight            int64\n",
      " engine-type           object\n",
      " num-of-cylinders      object\n",
      " engine-size            int64\n",
      " fuel-system           object\n",
      " bore                 float64\n",
      " stroke               float64\n",
      " compression-ratio    float64\n",
      " horsepower           float64\n",
      " peak-rpm             float64\n",
      " city-mpg               int64\n",
      " highway-mpg            int64\n",
      " price                float64\n",
      " symboling              int64\n",
      "dtype: object\n",
      "\n",
      "\n",
      "\n"
     ]
    }
   ],
   "source": [
    "os.chdir('../01b_Analisis de datos//')\n",
    "nomArch = 'AUTOS.csv' \n",
    "\n",
    "#-- detectando la codificación de caracteres usada ----\n",
    "with open(nomArch, 'rb') as f:\n",
    "    result = chardet.detect(f.read())  # or readline if the file is large\n",
    "\n",
    "\n",
    "datos= pd.read_csv(nomArch, encoding=result['encoding'])\n",
    "\n",
    "# dtypes visualiza los tipos de datos del DataFrame\n",
    "print(datos.dtypes)\n",
    "print('\\n'*2)\n"
   ]
  },
  {
   "cell_type": "code",
   "execution_count": null,
   "metadata": {},
   "outputs": [],
   "source": []
  }
 ],
 "metadata": {
  "kernelspec": {
   "display_name": "Python 3",
   "language": "python",
   "name": "python3"
  },
  "language_info": {
   "codemirror_mode": {
    "name": "ipython",
    "version": 3
   },
   "file_extension": ".py",
   "mimetype": "text/x-python",
   "name": "python",
   "nbconvert_exporter": "python",
   "pygments_lexer": "ipython3",
   "version": "3.6.5"
  }
 },
 "nbformat": 4,
 "nbformat_minor": 2
}
