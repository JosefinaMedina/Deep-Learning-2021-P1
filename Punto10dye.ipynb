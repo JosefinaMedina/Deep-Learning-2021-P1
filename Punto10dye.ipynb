{
 "cells": [
  {
   "cell_type": "code",
   "execution_count": 2,
   "metadata": {},
   "outputs": [],
   "source": [
    "import matplotlib.pyplot as plt\n",
    "import pandas as pd\n",
    "import numpy as np\n",
    "import os\n",
    "import chardet"
   ]
  },
  {
   "cell_type": "code",
   "execution_count": 11,
   "metadata": {},
   "outputs": [
    {
     "name": "stdout",
     "output_type": "stream",
     "text": [
      "id_Whisky      0\n",
      "Precio         2\n",
      "Malta          1\n",
      "Categoria      2\n",
      "Añejamiento    2\n",
      "Calidad        0\n",
      "dtype: int64\n",
      "83.0\n",
      "id_Whisky      0\n",
      "Precio         0\n",
      "Malta          1\n",
      "Categoria      2\n",
      "Añejamiento    2\n",
      "Calidad        0\n",
      "dtype: int64\n",
      "El Q1 es:  73.5\n",
      "El Q2 es:  83.0\n",
      "El Q3 es:  91.5\n",
      "El Q4 es:  160.0\n"
     ]
    },
    {
     "data": {
      "text/plain": [
       "<matplotlib.axes._subplots.AxesSubplot at 0x18ad0548898>"
      ]
     },
     "execution_count": 11,
     "metadata": {},
     "output_type": "execute_result"
    },
    {
     "data": {
      "image/png": "[encoded data removed]",
      "text/plain": [
       "<Figure size 432x288 with 1 Axes>"
      ]
     },
     "metadata": {},
     "output_type": "display_data"
    }
   ],
   "source": [
    "#Complete los valores faltantes del atributo PRECIO utilizando la media. \n",
    "#¿Cuántos valores faltantes completó? ¿Qué valor utilizó para completar los\n",
    "#valores de PRECIO faltantes?\n",
    "\n",
    "os.chdir('../01b_Analisis de datos//')\n",
    "nomArch = 'whisky.csv' \n",
    "with open(nomArch, 'rb') as f:\n",
    "    result = chardet.detect(f.read())  # or readline if the file is large\n",
    "\n",
    "df= pd.read_csv(nomArch, encoding=result['encoding'])\n",
    "\n",
    "print(df.isnull().sum())\n",
    "\n",
    "#crea una copia de df\n",
    "df5 = pd.DataFrame(df)\n",
    "median = df5['Precio'].median()\n",
    "print(median)\n",
    "df5['Precio'] = df5['Precio'].replace([np.nan], median)\n",
    "#print('Df5\\n')\n",
    "print(df5.isnull().sum())\n",
    "\n",
    "df['Precio']\n",
    "Precio= df['Precio'].tolist()  # as a numpy list\n",
    "print('El Q1 es: ', np.percentile(Precio, 25)) #primer cuartil\n",
    "print('El Q2 es: ', np.percentile(Precio, 50)) #segundo cuartil\n",
    "print('El Q3 es: ', np.percentile(Precio, 75)) #tercer cuartil\n",
    "print('El Q4 es: ', np.percentile(Precio, 100)) #cuarto cuartil\n",
    "\n",
    "df.boxplot(column=['Precio'], grid=False, vert=False)"
   ]
  },
  {
   "cell_type": "code",
   "execution_count": null,
   "metadata": {},
   "outputs": [],
   "source": []
  }
 ],
 "metadata": {
  "kernelspec": {
   "display_name": "Python 3",
   "language": "python",
   "name": "python3"
  },
  "language_info": {
   "codemirror_mode": {
    "name": "ipython",
    "version": 3
   },
   "file_extension": ".py",
   "mimetype": "text/x-python",
   "name": "python",
   "nbconvert_exporter": "python",
   "pygments_lexer": "ipython3",
   "version": "3.6.5"
  }
 },
 "nbformat": 4,
 "nbformat_minor": 2
}
