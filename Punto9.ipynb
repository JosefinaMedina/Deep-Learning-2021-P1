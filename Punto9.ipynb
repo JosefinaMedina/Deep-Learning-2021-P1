{
 "cells": [
  {
   "cell_type": "code",
   "execution_count": 1,
   "metadata": {},
   "outputs": [],
   "source": [
    "import matplotlib.pyplot as plt\n",
    "import pandas as pd\n",
    "import numpy as np"
   ]
  },
  {
   "cell_type": "code",
   "execution_count": 4,
   "metadata": {},
   "outputs": [
    {
     "name": "stdout",
     "output_type": "stream",
     "text": [
      "muy chico     52\n",
      "mediano       42\n",
      "grande        38\n",
      "muy grande    37\n",
      "chico         36\n",
      "Name:  engine-size, dtype: int64\n",
      "muy chico     52\n",
      "mediano       42\n",
      "grande        38\n",
      "muy grande    37\n",
      "chico         36\n",
      "Name:  engine-size2, dtype: int64\n"
     ]
    },
    {
     "data": {
      "text/plain": [
       "([<matplotlib.axis.XTick at 0x21bfbae2320>,\n",
       "  <matplotlib.axis.XTick at 0x21bfbae2f28>,\n",
       "  <matplotlib.axis.XTick at 0x21bfbae2c88>,\n",
       "  <matplotlib.axis.XTick at 0x21bfbb09898>,\n",
       "  <matplotlib.axis.XTick at 0x21bfbb09da0>],\n",
       " <a list of 5 Text xticklabel objects>)"
      ]
     },
     "execution_count": 4,
     "metadata": {},
     "output_type": "execute_result"
    },
    {
     "data": {
      "image/png": "[encoded data removed]",
      "text/plain": [
       "<Figure size 432x288 with 1 Axes>"
      ]
     },
     "metadata": {},
     "output_type": "display_data"
    }
   ],
   "source": [
    "#Discretice por frecuencia el atributo “engine-size” en dos intervalos llamados Chico y Grande. \n",
    "#Indique los intervalos utilizados para discretizar así como la cantidad de ejemplos que hay \n",
    "#en cada intervalo.\n",
    "\n",
    "df= pd.read_csv('..//01b_Analisis de datos//AUTOS.csv', encoding='ISO-8859-1')\n",
    "\n",
    "etiq = [\"muy chico\",\"chico\",\"mediano\",\"grande\",\"muy grande\"]\n",
    "\n",
    "# Discretización por FRECUENCIA\n",
    "[columna, Q] = pd.qcut(df[\" engine-size\"], q=len(etiq), labels=etiq,retbins=True)\n",
    "print(pd.value_counts(columna))\n",
    "\n",
    "df[' engine-size2']= pd.Series.to_frame(columna)\n",
    "\n",
    "barras = pd.value_counts(df[' engine-size2'])\n",
    "print(barras)\n",
    "\n",
    "plt.figure()\n",
    "N=len(barras)\n",
    "plt.bar(np.arange(N), barras)  # Gráfico de barras\n",
    "plt.title('engine-size')      # Colocamos el título\n",
    "plt.ylabel('Frecuencia')\n",
    "# Colocamos las etiquetas del eje x\n",
    "plt.xticks(np.arange(N), barras.index)"
   ]
  },
  {
   "cell_type": "code",
   "execution_count": null,
   "metadata": {},
   "outputs": [],
   "source": []
  }
 ],
 "metadata": {
  "kernelspec": {
   "display_name": "Python 3",
   "language": "python",
   "name": "python3"
  },
  "language_info": {
   "codemirror_mode": {
    "name": "ipython",
    "version": 3
   },
   "file_extension": ".py",
   "mimetype": "text/x-python",
   "name": "python",
   "nbconvert_exporter": "python",
   "pygments_lexer": "ipython3",
   "version": "3.6.5"
  }
 },
 "nbformat": 4,
 "nbformat_minor": 2
}
