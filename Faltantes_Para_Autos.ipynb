{
 "cells": [
  {
   "cell_type": "code",
   "execution_count": 1,
   "metadata": {},
   "outputs": [],
   "source": [
    "import pandas as pd\n",
    "import numpy as np\n",
    "import os\n",
    "import chardet"
   ]
  },
  {
   "cell_type": "code",
   "execution_count": 20,
   "metadata": {},
   "outputs": [
    {
     "name": "stdout",
     "output_type": "stream",
     "text": [
      "Df5\n",
      "\n",
      "normalized-losses     0\n",
      "make                  0\n",
      " fuel-type            0\n",
      " aspiration           0\n",
      " num-of-doors         2\n",
      " body-style           0\n",
      " drive-wheels         0\n",
      " engine-location      0\n",
      " wheel-base           0\n",
      " length               0\n",
      " width                0\n",
      " height               0\n",
      " curb-weight          0\n",
      " engine-type          0\n",
      " num-of-cylinders     0\n",
      " engine-size          0\n",
      " fuel-system          0\n",
      " bore                 0\n",
      " stroke               0\n",
      " compression-ratio    0\n",
      " horsepower           0\n",
      " peak-rpm             0\n",
      " city-mpg             0\n",
      " highway-mpg          0\n",
      " price                0\n",
      " symboling            0\n",
      "dtype: int64\n"
     ]
    }
   ],
   "source": [
    "os.chdir('../01b_Analisis de datos/')\n",
    "nomArch = 'AUTOS.csv' \n",
    "with open(nomArch, 'rb') as f:\n",
    "    result = chardet.detect(f.read())  # or readline if the file is large\n",
    "\n",
    "df= pd.read_csv(nomArch, encoding=result['encoding'])\n",
    "\n",
    "#print(df.isnull().sum()) #chequea cuantos nans hay por atributo\n",
    "\n",
    "#completa los atrib.numéricos con la media\n",
    "values = {'normalized-losses': df['normalized-losses'].min(), 'num-of-doors': 'two', }\n",
    "df1 = df.fillna(value=values)\n",
    "#print(df1.isnull().sum()) #chequea con el nuevo dataframe\n",
    "\n",
    "#-- reemplaza todos los nan con 0 (no siempre util)\n",
    "#df4 = df.replace(np.nan, 0)\n",
    "\n",
    "#crea una copia de df\n",
    "df2 = pd.DataFrame(df1)\n",
    "\n",
    "#modificar los datos con la moda o con la mediana dependiendo del caso\n",
    "modahorsepw = df2[' horsepower'].mode()\n",
    "medianbore = df2[' bore'].median()\n",
    "medianstroke = df2[' stroke'].median()\n",
    "medianprice = df2[' price'].median()\n",
    "medianpeak= df2[' peak-rpm'].median()\n",
    "\n",
    "#aplicar el reemplazo\n",
    "df2[' horsepower'] = df2[' horsepower'].replace([np.nan], modahorsepw)\n",
    "df2[' bore'] = df2[' bore'].replace([np.nan], medianbore)\n",
    "df2[' stroke'] = df2[' stroke'].replace([np.nan], medianstroke)\n",
    "df2[' price'] = df2[' price'].replace([np.nan], medianprice)\n",
    "df2[' peak-rpm'] = df2[' peak-rpm'].replace([np.nan], medianpeak)\n",
    "#print('Df5\\n')\n",
    "\n",
    "#TADAH, ahora chequear\n",
    "print(df2.isnull().sum())\n"
   ]
  },
  {
   "cell_type": "code",
   "execution_count": null,
   "metadata": {},
   "outputs": [],
   "source": []
  }
 ],
 "metadata": {
  "kernelspec": {
   "display_name": "Python 3",
   "language": "python",
   "name": "python3"
  },
  "language_info": {
   "codemirror_mode": {
    "name": "ipython",
    "version": 3
   },
   "file_extension": ".py",
   "mimetype": "text/x-python",
   "name": "python",
   "nbconvert_exporter": "python",
   "pygments_lexer": "ipython3",
   "version": "3.6.5"
  }
 },
 "nbformat": 4,
 "nbformat_minor": 2
}
