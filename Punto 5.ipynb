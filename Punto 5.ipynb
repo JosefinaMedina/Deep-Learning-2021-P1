{
 "cells": [
  {
   "cell_type": "code",
   "execution_count": 1,
   "metadata": {},
   "outputs": [],
   "source": [
    "import matplotlib.pyplot as plt\n",
    "import pandas as pd\n",
    "import numpy as np\n",
    "import os\n"
   ]
  },
  {
   "cell_type": "code",
   "execution_count": 16,
   "metadata": {},
   "outputs": [
    {
     "name": "stdout",
     "output_type": "stream",
     "text": [
      "El maximo es:  41315\n",
      "El minimo es:  5151\n",
      "El Q1 es:  15840.0\n",
      "El Q2 es:  17450.0\n",
      "El Q3 es:  22490.0\n",
      "El Q4 es:  41315.0\n",
      "El RIC es:  6650.0\n",
      "El bigote superior es:  32465.0\n",
      "El bigote inferior es:  5865.0\n",
      "El maximo es:  45400\n",
      "El minimo es:  5118\n",
      "El Q1 es:  7701.25\n",
      "El Q2 es:  9959.5\n",
      "El Q3 es:  15392.5\n",
      "El Q4 es:  45400.0\n",
      "El RIC es:  7691.25\n",
      "El bigote superior es:  26929.375\n",
      "El bigote inferior es:  -3835.625\n"
     ]
    }
   ],
   "source": [
    "#DIESEL\n",
    "\n",
    "os.chdir('../01b_Analisis de datos//')\n",
    "datos = pd.read_csv('AUTOS.csv')\n",
    "diesel=[13495, 16500,16500,13950,17450,15250,17710,18920,23875,16430,16925,20970,21105,24565,30760,41315,36880,5151,6295]\n",
    "print('El maximo es: ', max(diesel))\n",
    "print('El minimo es: ',min(diesel))\n",
    "print('El Q1 es: ', np.percentile(diesel, 25)) #primer cuartil\n",
    "print('El Q2 es: ', np.percentile(diesel, 50)) #segundo cuartil\n",
    "print('El Q3 es: ', np.percentile(diesel, 75)) #tercer cuartil\n",
    "print('El Q4 es: ', np.percentile(diesel, 100)) #cuarto cuartil\n",
    "\n",
    "#rango intercuartil\n",
    "def IQR(diesel):\n",
    "    return np.percentile(diesel, 75) - np.percentile(diesel, 25)\n",
    "print ('El RIC es: ', IQR(diesel))\n",
    "\n",
    "#bigotes\n",
    "print('El bigote superior es: ', np.percentile(diesel, 75)+IQR(diesel)*1.5)\n",
    "print('El bigote inferior es: ', np.percentile(diesel, 25)-IQR(diesel)*1.5)\n",
    "\n",
    "#GAS\n",
    "gas=[6575,5572,6377,7957,6229,6692,7609,8558,8921,12964,6479,6855,5399,6529,7129,7295,7295,7895,9095,8845,10295,12945,10345,6785,11048,32250,35550,36000,5195,6095,6795,6695,7395,10945,11845,13645,15645,8845,8495,10595,10245,10795,11245,18280,18344,25552,28248,28176,31600,34184,35056,40960,45400,16503,5389,6189,6669,7689,9959,8499,12629,14869,14489,6989,8189,9279,9279,5499,7099,6649,6849,7349,7299,7799,7499,7999,8249,8949,9549,13499,14399,13499,17199,19699,18399,11900,13200,12440,13860,15580,16900,16695,17075,16630,17950,18150,5572,7957,6229,6692,7609,8921,12764,22018,32528,34028,37028,9295,9895,11850,12170,15040,15510,18150,18620,5118,7053,7603,7126,7775,9960,9233,11259,7463,10198,8013,11694,5348,6338,6488,6918,7898,8778,6938,7198,7898,7788,7738,8358,9258,8058,8238,9298,9538,8449,9639,9989,11199,11549,17669,8948,10698,9988,10898,11248,16558,15998,15690,15750,7775,7975,7995,8195,8495,9495,9995,11595,9980,13295,13845,12290,12940,13415,15985,16515,18420,18950,16845,19045,21485,22470,22625]\n",
    "\n",
    "print('El maximo es: ', max(gas))\n",
    "print('El minimo es: ',min(gas))\n",
    "print('El Q1 es: ', np.percentile(gas, 25)) #primer cuartil\n",
    "print('El Q2 es: ', np.percentile(gas, 50)) #segundo cuartil\n",
    "print('El Q3 es: ', np.percentile(gas, 75)) #tercer cuartil\n",
    "print('El Q4 es: ', np.percentile(gas, 100)) #cuarto cuartil\n",
    "\n",
    "#rango intercuartil\n",
    "def IQR(gas):\n",
    "    return np.percentile(gas, 75) - np.percentile(gas, 25)\n",
    "print ('El RIC es: ', IQR(gas))\n",
    "\n",
    "#bigotes\n",
    "print('El bigote superior es: ', np.percentile(gas, 75)+IQR(gas)*1.5)\n",
    "print('El bigote inferior es: ', np.percentile(gas, 25)-IQR(gas)*1.5)"
   ]
  },
  {
   "cell_type": "code",
   "execution_count": null,
   "metadata": {},
   "outputs": [],
   "source": []
  }
 ],
 "metadata": {
  "kernelspec": {
   "display_name": "Python 3",
   "language": "python",
   "name": "python3"
  },
  "language_info": {
   "codemirror_mode": {
    "name": "ipython",
    "version": 3
   },
   "file_extension": ".py",
   "mimetype": "text/x-python",
   "name": "python",
   "nbconvert_exporter": "python",
   "pygments_lexer": "ipython3",
   "version": "3.6.5"
  }
 },
 "nbformat": 4,
 "nbformat_minor": 2
}
