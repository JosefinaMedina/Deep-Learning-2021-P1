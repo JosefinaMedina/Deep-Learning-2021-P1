{
 "cells": [
  {
   "cell_type": "code",
   "execution_count": 3,
   "metadata": {},
   "outputs": [],
   "source": [
    "import matplotlib.pyplot as plt\n",
    "import pandas as pd\n",
    "import numpy as np"
   ]
  },
  {
   "cell_type": "code",
   "execution_count": 10,
   "metadata": {},
   "outputs": [
    {
     "name": "stdout",
     "output_type": "stream",
     "text": [
      "chico      161\n",
      "mediano     39\n",
      "grande       5\n",
      "Name:  engine-size2, dtype: int64\n"
     ]
    },
    {
     "data": {
      "text/plain": [
       "([<matplotlib.axis.XTick at 0x17300ca1f28>,\n",
       "  <matplotlib.axis.XTick at 0x17300ca1860>,\n",
       "  <matplotlib.axis.XTick at 0x17300ca15f8>],\n",
       " <a list of 3 Text xticklabel objects>)"
      ]
     },
     "execution_count": 10,
     "metadata": {},
     "output_type": "execute_result"
    },
    {
     "data": {
      "image/png": "[encoded data removed]",
      "text/plain": [
       "<Figure size 432x288 with 1 Axes>"
      ]
     },
     "metadata": {},
     "output_type": "display_data"
    }
   ],
   "source": [
    "#Discretice por rango el atributo “engine-size” en dos intervalos llamados Chico y Grande. \n",
    "#Indique los intervalos utilizados para discretizar así como la cantidad de ejemplos que\n",
    "#hay en cada intervalo\n",
    "\n",
    "df= pd.read_csv('../01b_Analisis de datos/AUTOS.csv', encoding='ISO-8859-1')\n",
    "\n",
    "etiq = [\"chico\", \"mediano\",\"grande\"]\n",
    "\n",
    "# Discretización por RANGO\n",
    "columna = pd.cut(df[\" engine-size\"],bins=len(etiq),labels=etiq)\n",
    "\n",
    "df[' engine-size2']= pd.Series.to_frame(columna)\n",
    "\n",
    "barras = pd.value_counts(df[' engine-size2'])\n",
    "print(barras)\n",
    "\n",
    "plt.figure()\n",
    "N=len(barras)\n",
    "plt.bar(np.arange(N), barras)  # Gráfico de barras\n",
    "plt.title('engine-size')      # Colocamos el título\n",
    "plt.ylabel('Frecuencia')\n",
    "# Colocamos las etiquetas del eje x\n",
    "plt.xticks(np.arange(N), barras.index)\n"
   ]
  },
  {
   "cell_type": "code",
   "execution_count": null,
   "metadata": {},
   "outputs": [],
   "source": []
  }
 ],
 "metadata": {
  "kernelspec": {
   "display_name": "Python 3",
   "language": "python",
   "name": "python3"
  },
  "language_info": {
   "codemirror_mode": {
    "name": "ipython",
    "version": 3
   },
   "file_extension": ".py",
   "mimetype": "text/x-python",
   "name": "python",
   "nbconvert_exporter": "python",
   "pygments_lexer": "ipython3",
   "version": "3.6.5"
  }
 },
 "nbformat": 4,
 "nbformat_minor": 2
}
